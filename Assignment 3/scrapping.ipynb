{
 "cells": [
  {
   "cell_type": "code",
   "execution_count": 11,
   "metadata": {},
   "outputs": [
    {
     "name": "stdout",
     "output_type": "stream",
     "text": [
      "Defaulting to user installation because normal site-packages is not writeable\n",
      "Requirement already satisfied: beautifulsoup4 in /home/shashwat/.local/lib/python3.10/site-packages (4.12.3)\n",
      "Requirement already satisfied: soupsieve>1.2 in /home/shashwat/.local/lib/python3.10/site-packages (from beautifulsoup4) (2.5)\n",
      "Note: you may need to restart the kernel to use updated packages.\n"
     ]
    }
   ],
   "source": [
    "%pip install beautifulsoup4\n",
    "\n",
    "import pandas as pd\n",
    "import numpy as np\n",
    "import matplotlib.pyplot as plt\n",
    "import seaborn as sns\n",
    "import requests\n",
    "from bs4 import BeautifulSoup\n",
    "import re\n",
    "import imdb\n",
    "import time\n",
    "import random\n"
   ]
  },
  {
   "cell_type": "code",
   "execution_count": 66,
   "metadata": {},
   "outputs": [],
   "source": [
    "links = pd.read_csv('./links_set1.csv')\n",
    "movies = pd.read_csv('./movies_set1.csv')"
   ]
  },
  {
   "cell_type": "code",
   "execution_count": 67,
   "metadata": {},
   "outputs": [],
   "source": [
    "import requests\n",
    "from bs4 import BeautifulSoup\n",
    "\n",
    "def get_movie_actors(movie_id):\n",
    "    # Construct the IMDb movie URL with the movie ID\n",
    "    movie_id = \"tt\" + movie_id.zfill(7)\n",
    "    url = f\"https://www.imdb.com/title/{movie_id}/\"\n",
    "    # print(\"Fetching URL:\", url)\n",
    "\n",
    "    # Send the request with headers to avoid blocking\n",
    "    headers = {\n",
    "        \"User-Agent\": \"Mozilla/5.0 (Windows NT 10.0; Win64; x64) AppleWebKit/537.36 (KHTML, like Gecko) Chrome/87.0.4280.88 Safari/537.36\"\n",
    "    }\n",
    "    page = requests.get(url, headers=headers)\n",
    "    # print(\"Status Code:\", page.status_code)\n",
    "\n",
    "    if page.status_code != 200:\n",
    "        print(\"Failed to retrieve page\")\n",
    "        return None\n",
    "\n",
    "    # Parse the page content using BeautifulSoup\n",
    "    soup = BeautifulSoup(page.text, 'html.parser')\n",
    "\n",
    "    # Find the outermost <ul> that contains the actors list\n",
    "    outer_li = soup.find('li', class_='ipc-metadata-list__item ipc-metadata-list-item--link')\n",
    "    # print(outer_li)\n",
    "    actors = []\n",
    "    if outer_li:\n",
    "        list_items = outer_li.find_all('li', class_='ipc-inline-list__item')  # Get the last <li> element\n",
    "        # print(list_items)\n",
    "        for li in list_items:\n",
    "            actor_links = li.find_all('a', class_='ipc-metadata-list-item__list-content-item--link')\n",
    "            for actor in actor_links:\n",
    "                # print(actor)\n",
    "                actor_name = actor.text.strip()\n",
    "                actors.append(actor_name)\n",
    "\n",
    "    return actors\n"
   ]
  },
  {
   "cell_type": "code",
   "execution_count": 68,
   "metadata": {},
   "outputs": [],
   "source": [
    "# actors = get_movie_actors('48773')\n",
    "# print(actors)"
   ]
  },
  {
   "cell_type": "code",
   "execution_count": null,
   "metadata": {},
   "outputs": [
    {
     "ename": "NameError",
     "evalue": "name 'mf' is not defined",
     "output_type": "error",
     "traceback": [
      "\u001b[0;31m---------------------------------------------------------------------------\u001b[0m",
      "\u001b[0;31mNameError\u001b[0m                                 Traceback (most recent call last)",
      "Cell \u001b[0;32mIn[73], line 3\u001b[0m\n\u001b[1;32m      1\u001b[0m all_recommendations \u001b[38;5;241m=\u001b[39m []\n\u001b[0;32m----> 3\u001b[0m \u001b[38;5;28;01mfor\u001b[39;00m user_id \u001b[38;5;129;01min\u001b[39;00m \u001b[38;5;28mrange\u001b[39m(\u001b[43mmf\u001b[49m\u001b[38;5;241m.\u001b[39mnum_users):\n\u001b[1;32m      4\u001b[0m     \u001b[38;5;66;03m# Get the predicted ratings for the current user\u001b[39;00m\n\u001b[1;32m      5\u001b[0m     user_predictions \u001b[38;5;241m=\u001b[39m predicted_ratings[user_id]\n\u001b[1;32m      7\u001b[0m     \u001b[38;5;66;03m# Create a DataFrame of actors and predicted ratings for the current user\u001b[39;00m\n",
      "\u001b[0;31mNameError\u001b[0m: name 'mf' is not defined"
     ]
    }
   ],
   "source": [
    "all_recommendations = []\n",
    "\n",
    "for user_id in range(mf.num_users):\n",
    "    # Get the predicted ratings for the current user\n",
    "    user_predictions = predicted_ratings[user_id]\n",
    "\n",
    "    # Create a DataFrame of actors and predicted ratings for the current user\n",
    "    recommendations = pd.DataFrame({\n",
    "        'actor': actors,  # This should be a list of actors corresponding to the items\n",
    "        'predicted_rating': user_predictions\n",
    "    })\n",
    "\n",
    "    # Sort by predicted rating and take top 15\n",
    "    recommendations = recommendations.sort_values(by='predicted_rating', ascending=False).head(15)\n",
    "\n",
    "    # Create a dictionary of top actors and their predicted ratings for the current user\n",
    "    top_actors_dict = recommendations.set_index('actor')['predicted_rating'].to_dict()\n",
    "\n",
    "    # Add the user_id and top_actors dictionary to the list\n",
    "    all_recommendations.append({\n",
    "        'userId': user_id,\n",
    "        'top_actors': top_actors_dict\n",
    "    })\n",
    "\n",
    "# Convert the list of dictionaries to a DataFrame\n",
    "all_user_recommendations = pd.DataFrame(all_recommendations)\n",
    "\n",
    "# Save the final recommendations DataFrame to a CSV\n",
    "all_user_recommendations.to_csv('top_actors_for_each_user_with_ratings.csv', index=False)\n",
    "\n",
    "print(\"Top actors for each user have been saved in the required format.\")"
   ]
  },
  {
   "cell_type": "code",
   "execution_count": null,
   "metadata": {},
   "outputs": [],
   "source": []
  },
  {
   "cell_type": "code",
   "execution_count": null,
   "metadata": {},
   "outputs": [],
   "source": []
  }
 ],
 "metadata": {
  "kernelspec": {
   "display_name": "Python 3",
   "language": "python",
   "name": "python3"
  },
  "language_info": {
   "codemirror_mode": {
    "name": "ipython",
    "version": 3
   },
   "file_extension": ".py",
   "mimetype": "text/x-python",
   "name": "python",
   "nbconvert_exporter": "python",
   "pygments_lexer": "ipython3",
   "version": "3.10.12"
  }
 },
 "nbformat": 4,
 "nbformat_minor": 2
}
